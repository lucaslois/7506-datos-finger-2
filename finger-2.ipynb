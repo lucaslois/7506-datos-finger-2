{
 "cells": [
  {
   "cell_type": "code",
   "execution_count": 2,
   "metadata": {},
   "outputs": [],
   "source": [
    "from pyspark import SparkContext, SparkConf\n",
    "import matplotlib as plt\n",
    "import seaborn as sb\n",
    "\n",
    "conf = SparkConf().setAppName('finger-2').setMaster('local')\n",
    "sc = SparkContext(conf=conf)"
   ]
  },
  {
   "cell_type": "markdown",
   "metadata": {},
   "source": [
    "# Punto 1. Buscamos el evento predominante"
   ]
  },
  {
   "cell_type": "code",
   "execution_count": 47,
   "metadata": {},
   "outputs": [
    {
     "name": "stdout",
     "output_type": "stream",
     "text": [
      "Procesamiento del lado del cliente:\n",
      "El evento predominante es << viewed product >> con 528931 apariciones\n",
      " \n",
      "Procesamiento del lado del cliente:\n",
      "El evento predominante es << viewed product >> con 528931 apariciones\n"
     ]
    }
   ],
   "source": [
    "rdd = sc.textFile('../events.csv')\n",
    "resultados = rdd.map(lambda s: s.split(',')).map(lambda s: (s[1], 1)).reduceByKey(lambda a, b: a + b).collect()\n",
    "\n",
    "## Considero que la cantidad de información traida es lo suficientemente pequeña como para poder ser procesada en el cliente. Siendo que 'event' es un categórico y no debería crecer proporcionalmente a la cantidad de datos, no me parece incorrecto procesarlo con el cliente.\n",
    "## Sin embargo, lo encararé de ambas formas\n",
    "resultados.sort(key=lambda tup:tup[1], reverse = True)\n",
    "\n",
    "print('Procesamiento del lado del cliente:')\n",
    "print('El evento predominante es << {} >> con {} apariciones'.format(resultados[0][0], resultados[0][1]))\n",
    "print(' ')\n",
    "\n",
    "resultados = rdd.map(lambda s: s.split(',')).map(lambda s: (s[1], 1)).reduceByKey(lambda a, b: a + b).reduce(lambda a,b: a if a[1] > b[1] else b)\n",
    "\n",
    "print('Procesamiento del lado del servidor:')\n",
    "print('El evento predominante es << {} >> con {} apariciones'.format(resultados[0], resultados[1]))\n"
   ]
  },
  {
   "cell_type": "markdown",
   "metadata": {},
   "source": [
    "# Punto 2. Producto más visitado"
   ]
  },
  {
   "cell_type": "code",
   "execution_count": 56,
   "metadata": {},
   "outputs": [
    {
     "name": "stdout",
     "output_type": "stream",
     "text": [
      "Los productos más visitados son:\n"
     ]
    },
    {
     "data": {
      "text/plain": [
       "[('iPhone 6', 47538),\n",
       " ('iPhone 5s', 42045),\n",
       " ('iPhone 6S', 36930),\n",
       " ('iPhone 7', 26330),\n",
       " ('Samsung Galaxy S7 Edge', 23062)]"
      ]
     },
     "execution_count": 56,
     "metadata": {},
     "output_type": "execute_result"
    }
   ],
   "source": [
    "productos = rdd.map(lambda x: x.split(',')).filter(lambda x: x[1] == 'viewed product').map(lambda x: (x[5], 1)).reduceByKey(lambda a, b: a + b)\n",
    "\n",
    "print('Los productos más visitados son:')\n",
    "productos.takeOrdered(5, key = lambda x : -x[1])"
   ]
  },
  {
   "cell_type": "code",
   "execution_count": null,
   "metadata": {},
   "outputs": [],
   "source": []
  }
 ],
 "metadata": {
  "kernelspec": {
   "display_name": "Python 3",
   "language": "python",
   "name": "python3"
  },
  "language_info": {
   "codemirror_mode": {
    "name": "ipython",
    "version": 3
   },
   "file_extension": ".py",
   "mimetype": "text/x-python",
   "name": "python",
   "nbconvert_exporter": "python",
   "pygments_lexer": "ipython3",
   "version": "3.6.5"
  }
 },
 "nbformat": 4,
 "nbformat_minor": 2
}
